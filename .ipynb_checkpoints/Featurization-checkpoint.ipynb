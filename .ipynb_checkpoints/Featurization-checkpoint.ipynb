{
 "cells": [
  {
   "cell_type": "code",
   "execution_count": 1,
   "id": "96c2f617",
   "metadata": {},
   "outputs": [],
   "source": [
    "#Importing library\n",
    "import warnings\n",
    "warnings.filterwarnings(\"ignore\")\n",
    "\n",
    "import csv\n",
    "import pandas as pd\n",
    "import datetime \n",
    "import time \n",
    "import numpy as np\n",
    "import matplotlib\n",
    "import matplotlib.pylab as plt\n",
    "import seaborn as sns\n",
    "from matplotlib import rcParams\n",
    "from sklearn.cluster import MiniBatchKMeans, KMeans\n",
    "import math\n",
    "import pickle\n",
    "import os\n",
    "import xgboost as xgb\n",
    "import warnings\n",
    "import networkx as nx\n",
    "import pdb\n",
    "import pickle\n",
    "from pandas import HDFStore,DataFrame\n",
    "from pandas import read_hdf\n",
    "from scipy.sparse.linalg import svds, eigs\n",
    "import gc\n",
    "from tqdm import tqdm"
   ]
  },
  {
   "cell_type": "markdown",
   "id": "72c89ac5",
   "metadata": {},
   "source": [
    "<h3>1. Reading Data</h3>\n"
   ]
  },
  {
   "cell_type": "code",
   "execution_count": 2,
   "id": "fc2ad66a",
   "metadata": {},
   "outputs": [
    {
     "name": "stdout",
     "output_type": "stream",
     "text": [
      "DiGraph with 1780722 nodes and 7550015 edges\n"
     ]
    }
   ],
   "source": [
    "if os.path.isfile('data/after_eda/train_pos_after_eda.csv'):\n",
    "    train_graph=nx.read_edgelist('data/after_eda/train_pos_after_eda.csv', delimiter=',',create_using=nx.DiGraph(), nodetype=int)\n",
    "    print(nx.info(train_graph))\n",
    "else:\n",
    "    print(\"File is not stored in folder, perform EDA and store it in folder.\")"
   ]
  },
  {
   "cell_type": "markdown",
   "id": "1fc46336",
   "metadata": {},
   "source": [
    "<h3>2. Similarity Measures</h3>\n"
   ]
  },
  {
   "cell_type": "markdown",
   "id": "2d6ef32b",
   "metadata": {},
   "source": [
    "<h4>2.1. Jaccard Distance </h4>\n",
    "\\begin{equation}\n",
    "jaccard = \\frac{|X\\cap Y|}{|X \\cup Y|} \n",
    "\\end{equation}"
   ]
  },
  {
   "cell_type": "code",
   "execution_count": 17,
   "id": "8f8128ad",
   "metadata": {},
   "outputs": [],
   "source": [
    "#For followees\n",
    "def jaccard_for_followees(a,b):\n",
    "    try:\n",
    "        if len(set(train_graph.successors(a)))==0 | len(set(train_graph.successors(b))):\n",
    "            return 0\n",
    "        sim=(len(set(train_graph.successors(a)).intersection(set(train_graph.successors(b)))))/\\\n",
    "        (len(set(train_graph.successors(a)).union(set(train_graph.successors(b)))))\n",
    "    except:\n",
    "        return 0\n",
    "    return sim"
   ]
  },
  {
   "cell_type": "code",
   "execution_count": 18,
   "id": "9772b9c0",
   "metadata": {},
   "outputs": [
    {
     "name": "stdout",
     "output_type": "stream",
     "text": [
      "0.0\n",
      "0.0\n"
     ]
    }
   ],
   "source": [
    "print(jaccard_for_followees(273084,1505602))\n",
    "print(jaccard_for_followees(1,255))"
   ]
  },
  {
   "cell_type": "code",
   "execution_count": 19,
   "id": "894e5588",
   "metadata": {},
   "outputs": [],
   "source": [
    "#for followers\n",
    "def jaccard_for_followers(a,b):\n",
    "    try:\n",
    "        if len(set(train_graph.predecessors(a)))==0 | len(set(train_graph.predecessors(b))):\n",
    "            return 0\n",
    "        sim=(len(set(train_graph.predecessors(a)).intersection(set(train_graph.predecessors(b)))))/\\\n",
    "        (len(set(train_graph.predecessors(a)).union(set(train_graph.predecessors(b)))))\n",
    "    except:\n",
    "        return 0\n",
    "    return sim\n"
   ]
  },
  {
   "cell_type": "code",
   "execution_count": 20,
   "id": "ed3e96e3",
   "metadata": {},
   "outputs": [
    {
     "name": "stdout",
     "output_type": "stream",
     "text": [
      "0.0\n",
      "0.0\n"
     ]
    }
   ],
   "source": [
    "print(jaccard_for_followers(273084,1505602))\n",
    "print(jaccard_for_followers(253084,1605602))"
   ]
  },
  {
   "cell_type": "markdown",
   "id": "c8e5edbc",
   "metadata": {},
   "source": [
    "<h4>2.2. Cosine Distance </h4>\n",
    "\\begin{equation}\n",
    "CosineDistance =\\frac{|X\\cap Y|}{\\sqrt{|X|\\cdot|Y|}} \n",
    "\\end{equation}"
   ]
  },
  {
   "cell_type": "code",
   "execution_count": 21,
   "id": "5e756dec",
   "metadata": {},
   "outputs": [],
   "source": [
    "#For followees\n",
    "def cosine_for_followees(a,b):\n",
    "    try:\n",
    "        if len(set(train_graph.successors(a)))==0 | len(set(train_graph.successors(b))):\n",
    "            return 0\n",
    "        sim=(len(set(train_graph.successors(a)).intersection(set(train_graph.successors(b)))))/\\\n",
    "        (math.sqrt(len(set(train_graph.successors(a)))*len((set(train_graph.successors(b))))))\n",
    "    except:\n",
    "        return 0\n",
    "    return sim"
   ]
  },
  {
   "cell_type": "code",
   "execution_count": 24,
   "id": "074e0f04",
   "metadata": {},
   "outputs": [
    {
     "name": "stdout",
     "output_type": "stream",
     "text": [
      "0.0\n",
      "0\n",
      "0.0\n"
     ]
    }
   ],
   "source": [
    "print(cosine_for_followees(273084,1505602))\n",
    "print(cosine_for_followees(273084,1635354))\n",
    "print(cosine_for_followees(1,255))"
   ]
  },
  {
   "cell_type": "code",
   "execution_count": 27,
   "id": "f1ef71cc",
   "metadata": {},
   "outputs": [],
   "source": [
    "#For followers\n",
    "def cosine_for_followers(a,b):\n",
    "    try:\n",
    "        if len(set(train_graph.predecessors(a)))==0 | len(set(train_graph.predecessors(b))):\n",
    "            return 0\n",
    "        sim=(len(set(train_graph.predecessors(a)).intersection(set(train_graph.predecessors(b)))))/\\\n",
    "        (math.sqrt(len(set(train_graph.predecessors(a)))*len((set(train_graph.predecessors(b))))))\n",
    "    except:\n",
    "        return 0\n",
    "    return sim"
   ]
  },
  {
   "cell_type": "code",
   "execution_count": 31,
   "id": "0fab4f98",
   "metadata": {},
   "outputs": [
    {
     "name": "stdout",
     "output_type": "stream",
     "text": [
      "0.0\n",
      "0\n",
      "0.0\n"
     ]
    }
   ],
   "source": [
    "print(cosine_for_followers(273084,1505602))\n",
    "print(cosine_for_followers(273084,1635354))\n",
    "print(cosine_for_followers(2,25))"
   ]
  },
  {
   "cell_type": "code",
   "execution_count": 33,
   "id": "fb947052",
   "metadata": {},
   "outputs": [
    {
     "name": "stdout",
     "output_type": "stream",
     "text": [
      "0.12909944487358055\n",
      "0\n"
     ]
    }
   ],
   "source": [
    "print(cosine_for_followers(2,470294))\n",
    "print(cosine_for_followers(2,470264))"
   ]
  },
  {
   "cell_type": "markdown",
   "id": "2a54b43e",
   "metadata": {},
   "source": [
    "<h3>3. Ranking Measure</h3>"
   ]
  },
  {
   "cell_type": "markdown",
   "id": "a440a706",
   "metadata": {},
   "source": [
    "Page rank computes the ranking of the node in the graph G based on the structure of the incoming links."
   ]
  },
  {
   "cell_type": "markdown",
   "id": "ed99f13d",
   "metadata": {},
   "source": [
    "<h4>3.1. Page Ranking</h4>"
   ]
  },
  {
   "cell_type": "code",
   "execution_count": 34,
   "id": "e0e9fc8f",
   "metadata": {},
   "outputs": [],
   "source": [
    "if not os.path.isfile('data/fea_sample/page_rank.p'):\n",
    "    pr=nx.pagerank(train_graph, alpha=0.85)\n",
    "    pickle.dump(pr, open('data/fea_sample/page_rank.p', 'wb'))\n",
    "else:\n",
    "    pr=pickle.load(open('data/fea_sample/page_rank.p', 'rb'))"
   ]
  },
  {
   "cell_type": "code",
   "execution_count": 36,
   "id": "910d09f1",
   "metadata": {},
   "outputs": [
    {
     "name": "stdout",
     "output_type": "stream",
     "text": [
      "min:  1.6556497245737814e-07\n",
      "max:  2.7098251341935827e-05\n",
      "mean:  5.615699699389075e-07\n",
      "5.615699699389075e-07\n"
     ]
    }
   ],
   "source": [
    "print('min: ', pr[min(pr, key=pr.get)])\n",
    "print('max: ', pr[max(pr, key=pr.get)])\n",
    "print('mean: ', float(sum(pr.values())/len(pr)))\n",
    "mean_pr=float(sum(pr.values())/len(pr))\n",
    "print(mean_pr)"
   ]
  },
  {
   "cell_type": "markdown",
   "id": "c97bfcce",
   "metadata": {},
   "source": [
    "<h3>4. Other Graph Features</h3>"
   ]
  },
  {
   "cell_type": "markdown",
   "id": "a24c9448",
   "metadata": {},
   "source": [
    "<h4>4.1. Shortest Path</h4>\n",
    "Getting shortest path between two nodes, if nodes have direct path then we remove that edge and calculate the shortest path."
   ]
  },
  {
   "cell_type": "code",
   "execution_count": 37,
   "id": "df48237f",
   "metadata": {},
   "outputs": [],
   "source": [
    "def compute_shortest_path_length(a,b):\n",
    "    p=-1\n",
    "    try:\n",
    "        if train_graph.has_edge(a,b):\n",
    "            train_graph.remove_edge(a,b)\n",
    "            p=nx.shortest_path_length(train_graph, source=a, target=b)\n",
    "            train_graph.add_edge(a,b)\n",
    "        else:\n",
    "            p=nx.shortest_path_length(train_graph, source=a, target=b)\n",
    "        return p\n",
    "    except:\n",
    "        return -1\n",
    "            "
   ]
  },
  {
   "cell_type": "code",
   "execution_count": 40,
   "id": "e18c9b0b",
   "metadata": {},
   "outputs": [
    {
     "name": "stdout",
     "output_type": "stream",
     "text": [
      "10\n",
      "-1\n",
      "8\n"
     ]
    }
   ],
   "source": [
    "print(compute_shortest_path_length(77697, 826021))\n",
    "print(compute_shortest_path_length(669354, 1635354))\n",
    "print(compute_shortest_path_length(1,1189))"
   ]
  },
  {
   "cell_type": "markdown",
   "id": "d606d8be",
   "metadata": {},
   "source": [
    "<h4>4.2. Checking for Same Community</h4>"
   ]
  },
  {
   "cell_type": "code",
   "execution_count": 41,
   "id": "c97a3faa",
   "metadata": {},
   "outputs": [],
   "source": [
    "#Getting weakly connected edges from the graph\n",
    "wcc=list(nx.weakly_connected_components(train_graph))\n"
   ]
  },
  {
   "cell_type": "code",
   "execution_count": 42,
   "id": "f9e43e63",
   "metadata": {},
   "outputs": [],
   "source": [
    "def belongs_to_same_wcc(a,b):\n",
    "    index=[]\n",
    "    if train_graph.has_edge(b,a):\n",
    "        return 1\n",
    "    if train_graph.has_edge(a,b):\n",
    "        for i in wcc:\n",
    "            if a in i:\n",
    "                index=i\n",
    "                break\n",
    "        if (b in index):\n",
    "            train_graph.remove_edge(a,b)\n",
    "            if compute_shortest_path_length(a,b)==-1:\n",
    "                train_graph.add_edge(a,b)\n",
    "                return 0\n",
    "            else:\n",
    "                train_graph.add_edge(a,b)\n",
    "                return 1\n",
    "        else:\n",
    "            return 0\n",
    "    else:\n",
    "        for i in wcc:\n",
    "            if a in i:\n",
    "                index=i\n",
    "                break\n",
    "        if (b in index):\n",
    "            return 1\n",
    "        else:\n",
    "            return 0\n",
    "        \n",
    "                \n",
    "            \n",
    "    "
   ]
  },
  {
   "cell_type": "code",
   "execution_count": 43,
   "id": "55d02d80",
   "metadata": {},
   "outputs": [
    {
     "name": "stdout",
     "output_type": "stream",
     "text": [
      "0\n",
      "0\n",
      "0\n"
     ]
    }
   ],
   "source": [
    "print(belongs_to_same_wcc(861, 1659750))\n",
    "print(belongs_to_same_wcc(669354, 1659750))\n",
    "print(belongs_to_same_wcc(669354, 1635354))"
   ]
  },
  {
   "cell_type": "markdown",
   "id": "4e97b0a7",
   "metadata": {},
   "source": [
    "<h4>4.3. Adamic/Adar Index. </h4>\n",
    "Adamic/Adar index measure is defined as inverted sum of the degrees of common neighbors for given two vertices.\n",
    "$$Adar(x,y)=\\sum_{u \\in N(x) \\cap N(y)}\\frac{1}{log(|N(u)|)}$$"
   ]
  },
  {
   "cell_type": "code",
   "execution_count": 53,
   "id": "5ad0cd98",
   "metadata": {},
   "outputs": [],
   "source": [
    "def calc_adar_in(a,b):\n",
    "    sum=0\n",
    "    try:\n",
    "        n=list(set(train_graph.successors(a)).intersection(set(train_graph.successors(b))))\n",
    "        if len(n)!=0:\n",
    "            for i in n:\n",
    "                sum=sum+(1/np.log10(len(list(train_graph.predecessors(i)))))\n",
    "            return sum\n",
    "            \n",
    "        else:\n",
    "            return 0\n",
    "    except:\n",
    "        return 0\n",
    "    "
   ]
  },
  {
   "cell_type": "code",
   "execution_count": 54,
   "id": "08c03ad3",
   "metadata": {},
   "outputs": [
    {
     "name": "stdout",
     "output_type": "stream",
     "text": [
      "0\n",
      "0\n"
     ]
    }
   ],
   "source": [
    "print(calc_adar_in(1,189226))\n",
    "print(calc_adar_in(669354,1635354))"
   ]
  },
  {
   "cell_type": "markdown",
   "id": "9132695b",
   "metadata": {},
   "source": [
    "<h4>4.4. Is Person Follows back</h4>"
   ]
  },
  {
   "cell_type": "code",
   "execution_count": 55,
   "id": "84d54004",
   "metadata": {},
   "outputs": [],
   "source": [
    "def follows_back(a,b):\n",
    "    if train_graph.has_edge(b,a):\n",
    "        return 1\n",
    "    else:\n",
    "        return 0"
   ]
  },
  {
   "cell_type": "code",
   "execution_count": 56,
   "id": "85fd9e80",
   "metadata": {},
   "outputs": [
    {
     "name": "stdout",
     "output_type": "stream",
     "text": [
      "1\n",
      "0\n",
      "0\n"
     ]
    }
   ],
   "source": [
    "print(follows_back(1,189226))\n",
    "print(follows_back(669354,1635354))\n",
    "print(follows_back(189,18926))"
   ]
  },
  {
   "cell_type": "markdown",
   "id": "9cb121ff",
   "metadata": {},
   "source": [
    "<h4>4.5.Katz Centrality </h4>\n",
    "Katz centrality computes the centrality for a node based on the centrality of its neighbors. It is generalization of the eigenvector centrality. The Katz centrality for node i is:\n",
    "$$x_i = \\alpha \\sum_{j} A_{ij} x_j + \\beta,$$\n",
    "where `A` is the adjacency matrix of the graph G \n",
    "with eigenvalues $\\lambda$. The parameter $\\beta$ controls the initial centrality and $\\alpha < \\frac{1}{\\lambda_{max}}.$"
   ]
  },
  {
   "cell_type": "code",
   "execution_count": 58,
   "id": "52407e82",
   "metadata": {},
   "outputs": [],
   "source": [
    "if not os.path.isfile('data/fea_sample/katz.p'):\n",
    "    katz=nx.katz.katz_centrality(train_graph, alpha=0.005, beta=1)\n",
    "    pickle.dump(katz, open('data/fea_sample/katz.p','wb'))\n",
    "else:\n",
    "    katz=pickle.load(open('data/fea_sample/katz.p','rb'))"
   ]
  },
  {
   "cell_type": "code",
   "execution_count": 59,
   "id": "d5d132e9",
   "metadata": {},
   "outputs": [
    {
     "name": "stdout",
     "output_type": "stream",
     "text": [
      "min:  0.0007313532484065916\n",
      "max:  0.003394554981699122\n",
      "mean:  0.0007483800935562018\n",
      "0.0007483800935562018\n"
     ]
    }
   ],
   "source": [
    "print('min: ', katz[min(katz, key=katz.get)])\n",
    "print('max: ', katz[max(katz, key=katz.get)])\n",
    "print('mean: ', float(sum(katz.values())/len(katz)))\n",
    "mean_katz=float(sum(katz.values())/len(katz))\n",
    "print(mean_katz)"
   ]
  },
  {
   "cell_type": "markdown",
   "id": "c11adc1e",
   "metadata": {},
   "source": [
    "<h4>4.5. Hits Score </h4>\n",
    "This algorithm computes two number for a node. Authority estimates the node value based on the incoming links. Hubs estimates the node values based on the outgoing link."
   ]
  },
  {
   "cell_type": "code",
   "execution_count": 60,
   "id": "4b7c911f",
   "metadata": {},
   "outputs": [],
   "source": [
    "if not os.path.isfile('data/fea_sample/hits.p'):\n",
    "    hits=nx.hits(train_graph, max_iter=100, tol=1e-08, nstart=None, normalized=True)\n",
    "    pickle.dump(hits, open('data/fea_sample/hits.p','wb'))\n",
    "else:\n",
    "    hits=pickle.load(open('data/fea_sample/hits.p','rb'))"
   ]
  },
  {
   "cell_type": "code",
   "execution_count": 62,
   "id": "5c3510a7",
   "metadata": {},
   "outputs": [
    {
     "name": "stdout",
     "output_type": "stream",
     "text": [
      "min:  0.0\n",
      "max:  0.004868653378780953\n",
      "mean:  5.615699699344123e-07\n",
      "5.615699699344123e-07\n"
     ]
    }
   ],
   "source": [
    "print('min: ', hits[0][min(hits[0], key=hits[0].get)])\n",
    "print('max: ', hits[0][max(hits[0], key=hits[0].get)])\n",
    "print('mean: ', float(sum(hits[0].values())/len(hits[0])))\n",
    "mean_hits=float(sum(hits[0].values())/len(hits[0]))\n",
    "print(mean_hits)"
   ]
  },
  {
   "cell_type": "markdown",
   "id": "1ff67769",
   "metadata": {},
   "source": [
    "<h3>5. Featurizations</h3>"
   ]
  },
  {
   "cell_type": "code",
   "execution_count": null,
   "id": "9a9bfac4",
   "metadata": {},
   "outputs": [],
   "source": []
  }
 ],
 "metadata": {
  "kernelspec": {
   "display_name": "Python 3 (ipykernel)",
   "language": "python",
   "name": "python3"
  },
  "language_info": {
   "codemirror_mode": {
    "name": "ipython",
    "version": 3
   },
   "file_extension": ".py",
   "mimetype": "text/x-python",
   "name": "python",
   "nbconvert_exporter": "python",
   "pygments_lexer": "ipython3",
   "version": "3.9.13"
  }
 },
 "nbformat": 4,
 "nbformat_minor": 5
}
