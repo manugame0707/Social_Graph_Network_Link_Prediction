{
 "cells": [
  {
   "cell_type": "code",
   "execution_count": 1,
   "id": "96c2f617",
   "metadata": {},
   "outputs": [],
   "source": [
    "#Importing library\n",
    "import warnings\n",
    "warnings.filterwarnings(\"ignore\")\n",
    "\n",
    "import csv\n",
    "import pandas as pd\n",
    "import datetime \n",
    "import time \n",
    "import numpy as np\n",
    "import matplotlib\n",
    "import matplotlib.pylab as plt\n",
    "import seaborn as sns\n",
    "from matplotlib import rcParams\n",
    "from sklearn.cluster import MiniBatchKMeans, KMeans\n",
    "import math\n",
    "import pickle\n",
    "import os\n",
    "import xgboost as xgb\n",
    "import warnings\n",
    "import networkx as nx\n",
    "import pdb\n",
    "import pickle\n",
    "from pandas import HDFStore,DataFrame\n",
    "from pandas import read_hdf\n",
    "from scipy.sparse.linalg import svds, eigs\n",
    "import gc\n",
    "from tqdm import tqdm"
   ]
  },
  {
   "cell_type": "markdown",
   "id": "a822f5e0",
   "metadata": {},
   "source": [
    "<h3>1. Reading Data</h3>\n"
   ]
  },
  {
   "cell_type": "code",
   "execution_count": 2,
   "id": "743ed45e",
   "metadata": {},
   "outputs": [
    {
     "name": "stdout",
     "output_type": "stream",
     "text": [
      "DiGraph with 1780722 nodes and 7550015 edges\n"
     ]
    }
   ],
   "source": [
    "if os.path.isfile('data/after_eda/train_pos_after_eda.csv'):\n",
    "    train_graph=nx.read_edgelist('data/after_eda/train_pos_after_eda.csv', delimiter=',',create_using=nx.DiGraph(), nodetype=int)\n",
    "    print(nx.info(train_graph))\n",
    "else:\n",
    "    print(\"File is not stored in folder, perform EDA and store it in folder.\")"
   ]
  },
  {
   "cell_type": "markdown",
   "id": "15ff71bf",
   "metadata": {},
   "source": [
    "<h3>2. Similarity Measures</h3>\n"
   ]
  },
  {
   "cell_type": "markdown",
   "id": "fc7a9986",
   "metadata": {},
   "source": [
    "<h4>2.1. Jaccard Distance </h4>\n",
    "\\begin{equation}\n",
    "jaccard = \\frac{|X\\cap Y|}{|X \\cup Y|} \n",
    "\\end{equation}"
   ]
  },
  {
   "cell_type": "code",
   "execution_count": 17,
   "id": "ef357f38",
   "metadata": {},
   "outputs": [],
   "source": [
    "#For followees\n",
    "def jaccard_for_followees(a,b):\n",
    "    try:\n",
    "        if len(set(train_graph.successors(a)))==0 | len(set(train_graph.successors(b))):\n",
    "            return 0\n",
    "        sim=(len(set(train_graph.successors(a)).intersection(set(train_graph.successors(b)))))/\\\n",
    "        (len(set(train_graph.successors(a)).union(set(train_graph.successors(b)))))\n",
    "    except:\n",
    "        return 0\n",
    "    return sim"
   ]
  },
  {
   "cell_type": "code",
   "execution_count": 18,
   "id": "baac5966",
   "metadata": {},
   "outputs": [
    {
     "name": "stdout",
     "output_type": "stream",
     "text": [
      "0.0\n",
      "0.0\n"
     ]
    }
   ],
   "source": [
    "print(jaccard_for_followees(273084,1505602))\n",
    "print(jaccard_for_followees(1,255))"
   ]
  },
  {
   "cell_type": "code",
   "execution_count": 19,
   "id": "c76e12cb",
   "metadata": {},
   "outputs": [],
   "source": [
    "#for followers\n",
    "def jaccard_for_followers(a,b):\n",
    "    try:\n",
    "        if len(set(train_graph.predecessors(a)))==0 | len(set(train_graph.predecessors(b))):\n",
    "            return 0\n",
    "        sim=(len(set(train_graph.predecessors(a)).intersection(set(train_graph.predecessors(b)))))/\\\n",
    "        (len(set(train_graph.predecessors(a)).union(set(train_graph.predecessors(b)))))\n",
    "    except:\n",
    "        return 0\n",
    "    return sim\n"
   ]
  },
  {
   "cell_type": "code",
   "execution_count": 20,
   "id": "cce124ca",
   "metadata": {},
   "outputs": [
    {
     "name": "stdout",
     "output_type": "stream",
     "text": [
      "0.0\n",
      "0.0\n"
     ]
    }
   ],
   "source": [
    "print(jaccard_for_followers(273084,1505602))\n",
    "print(jaccard_for_followers(253084,1605602))"
   ]
  },
  {
   "cell_type": "markdown",
   "id": "b6b4767e",
   "metadata": {},
   "source": [
    "<h4>2.2. Cosine Distance </h4>\n",
    "\\begin{equation}\n",
    "CosineDistance =\\frac{|X\\cap Y|}{\\sqrt{|X|\\cdot|Y|}} \n",
    "\\end{equation}"
   ]
  },
  {
   "cell_type": "code",
   "execution_count": 21,
   "id": "23609223",
   "metadata": {},
   "outputs": [],
   "source": [
    "#For followees\n",
    "def cosine_for_followees(a,b):\n",
    "    try:\n",
    "        if len(set(train_graph.successors(a)))==0 | len(set(train_graph.successors(b))):\n",
    "            return 0\n",
    "        sim=(len(set(train_graph.successors(a)).intersection(set(train_graph.successors(b)))))/\\\n",
    "        (math.sqrt(len(set(train_graph.successors(a)))*len((set(train_graph.successors(b))))))\n",
    "    except:\n",
    "        return 0\n",
    "    return sim"
   ]
  },
  {
   "cell_type": "code",
   "execution_count": 24,
   "id": "8e5cfe80",
   "metadata": {},
   "outputs": [
    {
     "name": "stdout",
     "output_type": "stream",
     "text": [
      "0.0\n",
      "0\n",
      "0.0\n"
     ]
    }
   ],
   "source": [
    "print(cosine_for_followees(273084,1505602))\n",
    "print(cosine_for_followees(273084,1635354))\n",
    "print(cosine_for_followees(1,255))"
   ]
  },
  {
   "cell_type": "code",
   "execution_count": 27,
   "id": "6214a4e1",
   "metadata": {},
   "outputs": [],
   "source": [
    "#For followers\n",
    "def cosine_for_followers(a,b):\n",
    "    try:\n",
    "        if len(set(train_graph.predecessors(a)))==0 | len(set(train_graph.predecessors(b))):\n",
    "            return 0\n",
    "        sim=(len(set(train_graph.predecessors(a)).intersection(set(train_graph.predecessors(b)))))/\\\n",
    "        (math.sqrt(len(set(train_graph.predecessors(a)))*len((set(train_graph.predecessors(b))))))\n",
    "    except:\n",
    "        return 0\n",
    "    return sim"
   ]
  },
  {
   "cell_type": "code",
   "execution_count": 31,
   "id": "56c843d5",
   "metadata": {},
   "outputs": [
    {
     "name": "stdout",
     "output_type": "stream",
     "text": [
      "0.0\n",
      "0\n",
      "0.0\n"
     ]
    }
   ],
   "source": [
    "print(cosine_for_followers(273084,1505602))\n",
    "print(cosine_for_followers(273084,1635354))\n",
    "print(cosine_for_followers(2,25))"
   ]
  },
  {
   "cell_type": "code",
   "execution_count": 33,
   "id": "e2f7069c",
   "metadata": {},
   "outputs": [
    {
     "name": "stdout",
     "output_type": "stream",
     "text": [
      "0.12909944487358055\n",
      "0\n"
     ]
    }
   ],
   "source": [
    "print(cosine_for_followers(2,470294))\n",
    "print(cosine_for_followers(2,470264))"
   ]
  },
  {
   "cell_type": "markdown",
   "id": "72626fa3",
   "metadata": {},
   "source": [
    "<h3>3. Ranking Measure</h3>"
   ]
  },
  {
   "cell_type": "markdown",
   "id": "94255cf5",
   "metadata": {},
   "source": [
    "Page rank computes the ranking of the node in the graph G based on the structure of the incoming links."
   ]
  },
  {
   "cell_type": "markdown",
   "id": "e2178a01",
   "metadata": {},
   "source": [
    "<h4>3.1. Page Ranking</h4>"
   ]
  },
  {
   "cell_type": "code",
   "execution_count": 34,
   "id": "ae12b2c8",
   "metadata": {},
   "outputs": [],
   "source": [
    "if not os.path.isfile('data/fea_sample/page_rank.p'):\n",
    "    pr=nx.pagerank(train_graph, alpha=0.85)\n",
    "    pickle.dump(pr, open('data/fea_sample/page_rank.p', 'wb'))\n",
    "else:\n",
    "    pr=pickle.load(open('data/fea_sample/page_rank.p', 'rb'))"
   ]
  },
  {
   "cell_type": "code",
   "execution_count": 36,
   "id": "15f00243",
   "metadata": {},
   "outputs": [
    {
     "name": "stdout",
     "output_type": "stream",
     "text": [
      "min:  1.6556497245737814e-07\n",
      "max:  2.7098251341935827e-05\n",
      "mean:  5.615699699389075e-07\n",
      "5.615699699389075e-07\n"
     ]
    }
   ],
   "source": [
    "print('min: ', pr[min(pr, key=pr.get)])\n",
    "print('max: ', pr[max(pr, key=pr.get)])\n",
    "print('mean: ', float(sum(pr.values())/len(pr)))\n",
    "mean_pr=float(sum(pr.values())/len(pr))\n",
    "print(mean_pr)"
   ]
  },
  {
   "cell_type": "markdown",
   "id": "b57a1655",
   "metadata": {},
   "source": [
    "<h3>4. Other Graph Features</h3>"
   ]
  },
  {
   "cell_type": "markdown",
   "id": "7b739b47",
   "metadata": {},
   "source": [
    "<h4>4.1. Shortest Path</h4>\n",
    "Getting shortest path between two nodes, if nodes have direct path then we remove that edge and calculate the shortest path."
   ]
  },
  {
   "cell_type": "code",
   "execution_count": 37,
   "id": "76cc4728",
   "metadata": {},
   "outputs": [],
   "source": [
    "def compute_shortest_path_length(a,b):\n",
    "    p=-1\n",
    "    try:\n",
    "        if train_graph.has_edge(a,b):\n",
    "            train_graph.remove_edge(a,b)\n",
    "            p=nx.shortest_path_length(train_graph, source=a, target=b)\n",
    "            train_graph.add_edge(a,b)\n",
    "        else:\n",
    "            p=nx.shortest_path_length(train_graph, source=a, target=b)\n",
    "        return p\n",
    "    except:\n",
    "        return -1\n",
    "            "
   ]
  },
  {
   "cell_type": "code",
   "execution_count": 40,
   "id": "2e940aad",
   "metadata": {},
   "outputs": [
    {
     "name": "stdout",
     "output_type": "stream",
     "text": [
      "10\n",
      "-1\n",
      "8\n"
     ]
    }
   ],
   "source": [
    "print(compute_shortest_path_length(77697, 826021))\n",
    "print(compute_shortest_path_length(669354, 1635354))\n",
    "print(compute_shortest_path_length(1,1189))"
   ]
  },
  {
   "cell_type": "markdown",
   "id": "79a3bcba",
   "metadata": {},
   "source": [
    "<h4>4.2. Checking for Same Community</h4>"
   ]
  },
  {
   "cell_type": "code",
   "execution_count": 41,
   "id": "7fbd20e3",
   "metadata": {},
   "outputs": [],
   "source": [
    "#Getting weakly connected edges from the graph\n",
    "wcc=list(nx.weakly_connected_components(train_graph))\n"
   ]
  },
  {
   "cell_type": "code",
   "execution_count": 42,
   "id": "5f0581bc",
   "metadata": {},
   "outputs": [],
   "source": [
    "def belongs_to_same_wcc(a,b):\n",
    "    index=[]\n",
    "    if train_graph.has_edge(b,a):\n",
    "        return 1\n",
    "    if train_graph.has_edge(a,b):\n",
    "        for i in wcc:\n",
    "            if a in i:\n",
    "                index=i\n",
    "                break\n",
    "        if (b in index):\n",
    "            train_graph.remove_edge(a,b)\n",
    "            if compute_shortest_path_length(a,b)==-1:\n",
    "                train_graph.add_edge(a,b)\n",
    "                return 0\n",
    "            else:\n",
    "                train_graph.add_edge(a,b)\n",
    "                return 1\n",
    "        else:\n",
    "            return 0\n",
    "    else:\n",
    "        for i in wcc:\n",
    "            if a in i:\n",
    "                index=i\n",
    "                break\n",
    "        if (b in index):\n",
    "            return 1\n",
    "        else:\n",
    "            return 0\n",
    "        \n",
    "                \n",
    "            \n",
    "    "
   ]
  },
  {
   "cell_type": "code",
   "execution_count": 43,
   "id": "b0e4dc9d",
   "metadata": {},
   "outputs": [
    {
     "name": "stdout",
     "output_type": "stream",
     "text": [
      "0\n",
      "0\n",
      "0\n"
     ]
    }
   ],
   "source": [
    "print(belongs_to_same_wcc(861, 1659750))\n",
    "print(belongs_to_same_wcc(669354, 1659750))\n",
    "print(belongs_to_same_wcc(669354, 1635354))"
   ]
  },
  {
   "cell_type": "markdown",
   "id": "36c3bd1b",
   "metadata": {},
   "source": [
    "<h4>4.3. Adamic/Adar Index. </h4>\n",
    "Adamic/Adar index measure is defined as inverted sum of the degrees of common neighbors for given two vertices.\n",
    "$$Adar(x,y)=\\sum_{u \\in N(x) \\cap N(y)}\\frac{1}{log(|N(u)|)}$$"
   ]
  },
  {
   "cell_type": "code",
   "execution_count": 53,
   "id": "a1d1586f",
   "metadata": {},
   "outputs": [],
   "source": [
    "def calc_adar_in(a,b):\n",
    "    sum=0\n",
    "    try:\n",
    "        n=list(set(train_graph.successors(a)).intersection(set(train_graph.successors(b))))\n",
    "        if len(n)!=0:\n",
    "            for i in n:\n",
    "                sum=sum+(1/np.log10(len(list(train_graph.predecessors(i)))))\n",
    "            return sum\n",
    "            \n",
    "        else:\n",
    "            return 0\n",
    "    except:\n",
    "        return 0\n",
    "    "
   ]
  },
  {
   "cell_type": "code",
   "execution_count": 54,
   "id": "e407564b",
   "metadata": {},
   "outputs": [
    {
     "name": "stdout",
     "output_type": "stream",
     "text": [
      "0\n",
      "0\n"
     ]
    }
   ],
   "source": [
    "print(calc_adar_in(1,189226))\n",
    "print(calc_adar_in(669354,1635354))"
   ]
  },
  {
   "cell_type": "markdown",
   "id": "07037332",
   "metadata": {},
   "source": [
    "<h4>4.4. Is Person Follows back</h4>"
   ]
  },
  {
   "cell_type": "code",
   "execution_count": 55,
   "id": "4e5fcef8",
   "metadata": {},
   "outputs": [],
   "source": [
    "def follows_back(a,b):\n",
    "    if train_graph.has_edge(b,a):\n",
    "        return 1\n",
    "    else:\n",
    "        return 0"
   ]
  },
  {
   "cell_type": "code",
   "execution_count": 56,
   "id": "360f319f",
   "metadata": {},
   "outputs": [
    {
     "name": "stdout",
     "output_type": "stream",
     "text": [
      "1\n",
      "0\n",
      "0\n"
     ]
    }
   ],
   "source": [
    "print(follows_back(1,189226))\n",
    "print(follows_back(669354,1635354))\n",
    "print(follows_back(189,18926))"
   ]
  },
  {
   "cell_type": "markdown",
   "id": "077b473f",
   "metadata": {},
   "source": [
    "<h4>4.5.Katz Centrality </h4>\n",
    "Katz centrality computes the centrality for a node based on the centrality of its neighbors. It is generalization of the eigenvector centrality. The Katz centrality for node i is:\n",
    "$$x_i = \\alpha \\sum_{j} A_{ij} x_j + \\beta,$$\n",
    "where `A` is the adjacency matrix of the graph G \n",
    "with eigenvalues $\\lambda$. The parameter $\\beta$ controls the initial centrality and $\\alpha < \\frac{1}{\\lambda_{max}}.$"
   ]
  },
  {
   "cell_type": "code",
   "execution_count": 58,
   "id": "14ca9c4e",
   "metadata": {},
   "outputs": [],
   "source": [
    "if not os.path.isfile('data/fea_sample/katz.p'):\n",
    "    katz=nx.katz.katz_centrality(train_graph, alpha=0.005, beta=1)\n",
    "    pickle.dump(katz, open('data/fea_sample/katz.p','wb'))\n",
    "else:\n",
    "    katz=pickle.load(open('data/fea_sample/katz.p','rb'))"
   ]
  },
  {
   "cell_type": "code",
   "execution_count": 59,
   "id": "b444e4a8",
   "metadata": {},
   "outputs": [
    {
     "name": "stdout",
     "output_type": "stream",
     "text": [
      "min:  0.0007313532484065916\n",
      "max:  0.003394554981699122\n",
      "mean:  0.0007483800935562018\n",
      "0.0007483800935562018\n"
     ]
    }
   ],
   "source": [
    "print('min: ', katz[min(katz, key=katz.get)])\n",
    "print('max: ', katz[max(katz, key=katz.get)])\n",
    "print('mean: ', float(sum(katz.values())/len(katz)))\n",
    "mean_katz=float(sum(katz.values())/len(katz))\n",
    "print(mean_katz)"
   ]
  },
  {
   "cell_type": "markdown",
   "id": "d0589dd1",
   "metadata": {},
   "source": [
    "<h4>4.5. Hits Score </h4>\n",
    "This algorithm computes two number for a node. Authority estimates the node value based on the incoming links. Hubs estimates the node values based on the outgoing link."
   ]
  },
  {
   "cell_type": "code",
   "execution_count": 60,
   "id": "027c5297",
   "metadata": {},
   "outputs": [],
   "source": [
    "if not os.path.isfile('data/fea_sample/hits.p'):\n",
    "    hits=nx.hits(train_graph, max_iter=100, tol=1e-08, nstart=None, normalized=True)\n",
    "    pickle.dump(hits, open('data/fea_sample/hits.p','wb'))\n",
    "else:\n",
    "    hits=pickle.load(open('data/fea_sample/hits.p','rb'))"
   ]
  },
  {
   "cell_type": "code",
   "execution_count": 62,
   "id": "6ba7061c",
   "metadata": {},
   "outputs": [
    {
     "name": "stdout",
     "output_type": "stream",
     "text": [
      "min:  0.0\n",
      "max:  0.004868653378780953\n",
      "mean:  5.615699699344123e-07\n",
      "5.615699699344123e-07\n"
     ]
    }
   ],
   "source": [
    "print('min: ', hits[0][min(hits[0], key=hits[0].get)])\n",
    "print('max: ', hits[0][max(hits[0], key=hits[0].get)])\n",
    "print('mean: ', float(sum(hits[0].values())/len(hits[0])))\n",
    "mean_hits=float(sum(hits[0].values())/len(hits[0]))\n",
    "print(mean_hits)"
   ]
  },
  {
   "cell_type": "markdown",
   "id": "10cd262b",
   "metadata": {},
   "source": [
    "<h3>5. Featurizations</h3>"
   ]
  },
  {
   "cell_type": "markdown",
   "id": "b5cc0256",
   "metadata": {},
   "source": [
    "<h4>5.1. Reading a Sample of Data from Both Train and Test </h4>"
   ]
  },
  {
   "cell_type": "code",
   "execution_count": 63,
   "id": "b827d95c",
   "metadata": {},
   "outputs": [],
   "source": [
    "import randomif os.path.isfile('data/after_eda/train_after_eda.csv'):\n",
    "    file_name=\"data/after_eda/train_after_eda.csv\"\n",
    "    n_train=15100028\n",
    "    s=100000\n",
    "    skip_train=sorted(random.sample(range(1,n_train+1),n_train-s))\n"
   ]
  },
  {
   "cell_type": "code",
   "execution_count": 66,
   "id": "d16e238b",
   "metadata": {},
   "outputs": [],
   "source": [
    "if os.path.isfile('data/after_eda/test_after_eda.csv'):\n",
    "    file_name=\"data/after_eda/test_after_eda.csv\"\n",
    "    n_test=3775006\n",
    "    s=50000\n",
    "    skip_test=sorted(random.sample(range(1,n_test+1),n_test-s))"
   ]
  },
  {
   "cell_type": "code",
   "execution_count": 67,
   "id": "656ecec8",
   "metadata": {},
   "outputs": [
    {
     "name": "stdout",
     "output_type": "stream",
     "text": [
      "Number of rows in the train data file:  15100028\n",
      "Number of rows we are going to eliminate/skip in train data are:  15000028\n",
      "Number of rows in the test data file:  3775006\n",
      "Number of rows we are going to eliminate/skip in test data are:  3725006\n"
     ]
    }
   ],
   "source": [
    "print(\"Number of rows in the train data file: \", n_train)\n",
    "print(\"Number of rows we are going to eliminate/skip in train data are: \", len(skip_train))\n",
    "print(\"Number of rows in the test data file: \", n_test)\n",
    "print(\"Number of rows we are going to eliminate/skip in test data are: \", len(skip_test))"
   ]
  },
  {
   "cell_type": "code",
   "execution_count": 69,
   "id": "67f13f1e",
   "metadata": {},
   "outputs": [
    {
     "name": "stdout",
     "output_type": "stream",
     "text": [
      "Our train matrix size is:  (100002, 3)\n"
     ]
    },
    {
     "data": {
      "text/html": [
       "<div>\n",
       "<style scoped>\n",
       "    .dataframe tbody tr th:only-of-type {\n",
       "        vertical-align: middle;\n",
       "    }\n",
       "\n",
       "    .dataframe tbody tr th {\n",
       "        vertical-align: top;\n",
       "    }\n",
       "\n",
       "    .dataframe thead th {\n",
       "        text-align: right;\n",
       "    }\n",
       "</style>\n",
       "<table border=\"1\" class=\"dataframe\">\n",
       "  <thead>\n",
       "    <tr style=\"text-align: right;\">\n",
       "      <th></th>\n",
       "      <th>source_node</th>\n",
       "      <th>destination_node</th>\n",
       "      <th>indicator_link</th>\n",
       "    </tr>\n",
       "  </thead>\n",
       "  <tbody>\n",
       "    <tr>\n",
       "      <th>0</th>\n",
       "      <td>273084</td>\n",
       "      <td>1505602</td>\n",
       "      <td>1</td>\n",
       "    </tr>\n",
       "    <tr>\n",
       "      <th>1</th>\n",
       "      <td>34377</td>\n",
       "      <td>1540570</td>\n",
       "      <td>1</td>\n",
       "    </tr>\n",
       "  </tbody>\n",
       "</table>\n",
       "</div>"
      ],
      "text/plain": [
       "   source_node  destination_node  indicator_link\n",
       "0       273084           1505602               1\n",
       "1        34377           1540570               1"
      ]
     },
     "execution_count": 69,
     "metadata": {},
     "output_type": "execute_result"
    }
   ],
   "source": [
    "df_final_train=pd.read_csv('data/after_eda/train_after_eda.csv',skiprows=skip_train, names=['source_node','destination_node'])\n",
    "df_final_train['indicator_link']=pd.read_csv('data/train_y.csv',skiprows=skip_train,names=['indicator_link'])\n",
    "print(\"Our train matrix size is: \",df_final_train.shape)\n",
    "df_final_train.head(2)\n"
   ]
  },
  {
   "cell_type": "code",
   "execution_count": 70,
   "id": "ae391dfd",
   "metadata": {},
   "outputs": [
    {
     "name": "stdout",
     "output_type": "stream",
     "text": [
      "Our train matrix size is:  (50002, 3)\n"
     ]
    },
    {
     "data": {
      "text/html": [
       "<div>\n",
       "<style scoped>\n",
       "    .dataframe tbody tr th:only-of-type {\n",
       "        vertical-align: middle;\n",
       "    }\n",
       "\n",
       "    .dataframe tbody tr th {\n",
       "        vertical-align: top;\n",
       "    }\n",
       "\n",
       "    .dataframe thead th {\n",
       "        text-align: right;\n",
       "    }\n",
       "</style>\n",
       "<table border=\"1\" class=\"dataframe\">\n",
       "  <thead>\n",
       "    <tr style=\"text-align: right;\">\n",
       "      <th></th>\n",
       "      <th>source_node</th>\n",
       "      <th>destination_node</th>\n",
       "      <th>indicator_link</th>\n",
       "    </tr>\n",
       "  </thead>\n",
       "  <tbody>\n",
       "    <tr>\n",
       "      <th>0</th>\n",
       "      <td>848424</td>\n",
       "      <td>784690</td>\n",
       "      <td>1</td>\n",
       "    </tr>\n",
       "    <tr>\n",
       "      <th>1</th>\n",
       "      <td>109806</td>\n",
       "      <td>1262519</td>\n",
       "      <td>1</td>\n",
       "    </tr>\n",
       "  </tbody>\n",
       "</table>\n",
       "</div>"
      ],
      "text/plain": [
       "   source_node  destination_node  indicator_link\n",
       "0       848424            784690               1\n",
       "1       109806           1262519               1"
      ]
     },
     "execution_count": 70,
     "metadata": {},
     "output_type": "execute_result"
    }
   ],
   "source": [
    "df_final_test=pd.read_csv('data/after_eda/test_after_eda.csv',skiprows=skip_test, names=['source_node','destination_node'])\n",
    "df_final_test['indicator_link']=pd.read_csv('data/test_y.csv',skiprows=skip_test,names=['indicator_link'])\n",
    "print(\"Our train matrix size is: \",df_final_test.shape)\n",
    "df_final_test.head(2)"
   ]
  },
  {
   "cell_type": "markdown",
   "id": "59f5d029",
   "metadata": {},
   "source": [
    "<h4>5.2. Adding a set of Features</h4>\n",
    "Creating following features for train and test data:\n",
    "<ul>\n",
    "    <li>jaccard_followers</li>\n",
    "    <li>jaccard_followees</li>\n",
    "    <li>cosine_followers</li>\n",
    "    <li>cosine_followees</li>\n",
    "    <li>num_followers_s</li>\n",
    "    <li>num_followees_s</li>\n",
    "    <li>num_followers_d</li>\n",
    "    <li>num_followees_d</li>\n",
    "    <li>inter_followers</li>\n",
    "    <li>inter_followees</li>\n",
    "</ul>"
   ]
  },
  {
   "cell_type": "code",
   "execution_count": 71,
   "id": "9c1e5319",
   "metadata": {},
   "outputs": [],
   "source": [
    "if not os.path.isfile('data/fea_sample/storage_sample_stage1.h5'):\n",
    "    df_final_train['jaccard_followers']=df_final_train.apply(lambda row:\n",
    "                                            jaccard_for_followers(row['source_node'],row['destination_node']),axis=1)\n",
    "    df_final_test['jaccard_followers']=df_final_test.apply(lambda row:\n",
    "                                            jaccard_for_followers(row['source_node'],row['destination_node']),axis=1)\n",
    "    df_final_train['jaccard_followees']=df_final_train.apply(lambda row:\n",
    "                                            jaccard_for_followees(row['source_node'],row['destination_node']),axis=1)\n",
    "    df_final_test['jaccard_followees']=df_final_test.apply(lambda row:\n",
    "                                            jaccard_for_followees(row['source_node'],row['destination_node']),axis=1)\n",
    "    df_final_train['cosine_followers']=df_final_train.apply(lambda row:\n",
    "                                            cosine_for_followers(row['source_node'],row['destination_node']),axis=1)\n",
    "    df_final_test['cosine_followers']=df_final_test.apply(lambda row:\n",
    "                                            cosine_for_followers(row['source_node'],row['destination_node']),axis=1)\n",
    "    df_final_train['cosine_followees']=df_final_train.apply(lambda row:\n",
    "                                            cosine_for_followees(row['source_node'],row['destination_node']),axis=1)\n",
    "    df_final_test['cosine_followees']=df_final_test.apply(lambda row:\n",
    "                                            cosine_for_followees(row['source_node'],row['destination_node']),axis=1)"
   ]
  },
  {
   "cell_type": "code",
   "execution_count": 72,
   "id": "573a862d",
   "metadata": {},
   "outputs": [],
   "source": [
    "def compute_features_stage1(df_final):\n",
    "    #Number of followers and followees for source and dest. node\n",
    "    #Intersection of followers and followees for source and destination node.\n",
    "    num_followers_s=[]\n",
    "    num_followees_s=[]\n",
    "    num_followers_d=[]\n",
    "    num_followees_d=[]\n",
    "    inter_followers=[]\n",
    "    inter_followees=[]\n",
    "    for i,row in df_final.iterrows():\n",
    "        try:\n",
    "            s1=set(train_graph.predecessors(row['source_node']))\n",
    "            s2=set(train_graph.successors(row['source_node']))\n",
    "        except:\n",
    "            s1=set()\n",
    "            s2=set()\n",
    "        try:\n",
    "            d1=set(train_graph.predecessors(row['destination_node']))\n",
    "            d2=set(train_graph.successors(row['destination_node']))\n",
    "        except:\n",
    "            d1=set()\n",
    "            d2=set() \n",
    "        num_followers_s.append(len(s1))\n",
    "        num_followees_s.append(len(s2))\n",
    "        num_followers_d.append(len(d1))\n",
    "        num_followees_d.append(len(d2))\n",
    "        inter_followers.append(len(s1.intersection(d1)))\n",
    "        inter_followees.append(len(s2.intersection(d2)))\n",
    "        return num_followers_s,num_followees_s,num_followers_d,num_followees_d,inter_followers,inter_followees\n",
    "        \n",
    "            \n",
    "        "
   ]
  },
  {
   "cell_type": "code",
   "execution_count": 73,
   "id": "ef323630",
   "metadata": {},
   "outputs": [],
   "source": [
    "if not os.path.isfile('data/fea_sample/storage_sample_stage1.h5'):\n",
    "    df_final_train[num_followers_s],df_final_train[num_followees_s],\\\n",
    "    df_final_train[num_followers_d],df_final_train[num_followees_d],\\\n",
    "    df_final_train[inter_followers],df_final_train[inter_followees]=compute_features_stage1(df_final_train)\n",
    "    \n",
    "    df_final_test[num_followers_s],df_final_test[num_followees_s],\\\n",
    "    df_final_test[num_followers_d],df_final_test[num_followees_d],\\\n",
    "    df_final_test[inter_followers],df_final_test[inter_followees]=compute_features_stage1(df_final_test)\n",
    "    \n",
    "    hdf=HDFStore('data/fea_sample/storage_sample_stage1.h5')\n",
    "    hdf.put('train_df',df_final_train,format='table',data_columns=True)\n",
    "    hdf.put('test_df',df_final_test,format='table',data_columns=True)\n",
    "    hdf.close()\n",
    "else:\n",
    "    df_final_train=read_hdf('data/fea_sample/storage_sample_stage1.h5','train_df',mode='r')\n",
    "    df_final_test=read_hdf('data/fea_sample/storage_sample_stage1.h5','test_df',mode='r')\n",
    "    "
   ]
  },
  {
   "cell_type": "markdown",
   "id": "be8f34e4",
   "metadata": {},
   "source": [
    "<h4>5.3. Adding New Set of Features</h4>\n",
    "Creating following features for train and test data points:\n",
    "<ul>\n",
    "    <li>adar_index</li>\n",
    "    <li>follows_back</li>\n",
    "    <li>same_comp</li>\n",
    "    <li>shortest_path</li>\n",
    "</ul>"
   ]
  },
  {
   "cell_type": "code",
   "execution_count": 74,
   "id": "5d588746",
   "metadata": {},
   "outputs": [],
   "source": [
    "if not os.path.isfile('data/fea_sample/storage_sample_stage2.h5'):\n",
    "    df_final_train['adar_index']=df_final_train.apply(lambda row:\n",
    "                                            calc_adar_in(row['source_node'],row['destination_node']),axis=1)\n",
    "    df_final_test['adar_index']=df_final_test.apply(lambda row:\n",
    "                                           calc_adar_in(row['source_node'],row['destination_node']),axis=1)\n",
    "    df_final_train['follows_back']=df_final_train.apply(lambda row:\n",
    "                                            follows_back(row['source_node'],row['destination_node']),axis=1)\n",
    "    df_final_test['follows_back']=df_final_test.apply(lambda row:\n",
    "                                           follows_back(row['source_node'],row['destination_node']),axis=1)\n",
    "    df_final_train['same_comp']=df_final_train.apply(lambda row:\n",
    "                                            belongs_to_same_wcc(row['source_node'],row['destination_node']),axis=1)\n",
    "    df_final_test['same_comp']=df_final_test.apply(lambda row:\n",
    "                                           belongs_to_same_wcc(row['source_node'],row['destination_node']),axis=1)\n",
    "    df_final_train['shortest_path']=df_final_train.apply(lambda row:\n",
    "                                            compute_shortest_path_length(row['source_node'],row['destination_node']),axis=1)\n",
    "    df_final_test['shortest_path']=df_final_test.apply(lambda row:\n",
    "                                            compute_shortest_path_length(row['source_node'],row['destination_node']),axis=1)\n",
    "    \n",
    "    hdf=HDFStore('data/fea_sample/storage_sample_stage2.h5')\n",
    "    hdf.put('train_df',df_final_train,format='table',data_columns=True)\n",
    "    hdf.put('test_df',df_final_test,format='table',data_columns=True)\n",
    "    hdf.close()\n",
    "else:\n",
    "    df_final_train=read_hdf('data/fea_sample/storage_sample_stage2.h5','train_df',mode='r')\n",
    "    df_final_test=read_hdf('data/fea_sample/storage_sample_stage2.h5','test_df',mode='r')\n",
    "    \n",
    "    "
   ]
  },
  {
   "cell_type": "markdown",
   "id": "1bea659a",
   "metadata": {},
   "source": [
    "<h4>5.4. Adding New set of Features</h4>\n",
    "Following features are added to the train and test data:\n",
    "<ul>\n",
    "    <li>Weight Feature</br>\n",
    "    <ul>\n",
    "      <li>Weight of incoming edge</li>\n",
    "     <li>Weight of outgoing edge</li>\n",
    "     <li>Weight of incoming edge + Weight of outgoing edge</li>\n",
    "    <li>Weight of incoming edge * Weight of outgoing edge</li>\n",
    "    <li>2*Weight of incoming edge + Weight of outgoing edge</li>\n",
    "    <li>Weight of incoming edge + 2*Weight of outgoing edge</li>\n",
    "    </ul>\n",
    "    </li>\n",
    "    <li>Page Rank</li>\n",
    "    <li>Katz</li>\n",
    "    <li>Hubs</li>\n",
    "    <li>Authorities</li>\n",
    "</ul>\n",
    "Weight feature of the node i is given by:\n",
    "\\begin{equation}\n",
    "W_i = \\frac{1}{\\sqrt{1+|N|}}\n",
    "\\end{equation}\n",
    "where N is the number of neighbors of the node i."
   ]
  },
  {
   "cell_type": "code",
   "execution_count": 75,
   "id": "c22f2eb2",
   "metadata": {},
   "outputs": [
    {
     "name": "stderr",
     "output_type": "stream",
     "text": [
      "100%|██████████████████████████████| 1780722/1780722 [01:35<00:00, 18680.37it/s]\n"
     ]
    }
   ],
   "source": [
    "weight_in={}\n",
    "weight_out={}\n",
    "for i in tqdm(train_graph.nodes()):\n",
    "    s1=set(train_graph.predecessors(i))\n",
    "    w_in=1.0/(np.sqrt(1+len(s1)))\n",
    "    weight_in[i]=w_in\n",
    "    \n",
    "    s2=set(train_graph.successors(i))\n",
    "    w_out=1.0/(np.sqrt(1+len(s2)))\n",
    "    weight_out[i]=w_out\n",
    "mean_weight_in=np.mean(list(weight_in.values())) \n",
    "mean_weight_out=np.mean(list(weight_out.values()))  \n",
    "    "
   ]
  },
  {
   "cell_type": "code",
   "execution_count": 76,
   "id": "91d19a43",
   "metadata": {},
   "outputs": [],
   "source": [
    "if not os.path.isfile('data/fea_sample/storage_sample_stage3.h5'):\n",
    "    df_final_train['weight_in']=df_final_train.destination_node.apply(lambda x: weight_in.get(x, mean_weight_in))\n",
    "    df_final_train['weight_out']=df_final_train.source_node.apply(lambda x: weight_out.get(x, mean_weight_out))\n",
    "    \n",
    "    df_final_test['weight_in']=df_final_test.destination_node.apply(lambda x: weight_in.get(x, mean_weight_in))\n",
    "    df_final_test['weight_out']=df_final_test.source_node.apply(lambda x: weight_out.get(x, mean_weight_out))\n",
    "    \n",
    "    #feature engineering on these weight features\n",
    "    df_final_train[weight_f1]=df_final_train.weight_in + df_final_train.weight_out\n",
    "    df_final_train[weight_f2]=df_final_train.weight_in * df_final_train.weight_out\n",
    "    df_final_train[weight_f3]=2*df_final_train.weight_in + df_final_train.weight_out\n",
    "    df_final_train[weight_f4]=df_final_train.weight_in + 2*df_final_train.weight_out\n",
    "    \n",
    "    df_final_test[weight_f1]=df_final_test.weight_in + df_final_test.weight_out\n",
    "    df_final_test[weight_f2]=df_final_test.weight_in * df_final_test.weight_out\n",
    "    df_final_test[weight_f3]=2*df_final_test.weight_in + df_final_test.weight_out\n",
    "    df_final_test[weight_f4]=df_final_test.weight_in + 2*df_final_test.weight_out\n",
    "    \n",
    "    "
   ]
  },
  {
   "cell_type": "code",
   "execution_count": 77,
   "id": "e2114285",
   "metadata": {},
   "outputs": [],
   "source": [
    "if not os.path.isfile('data/fea_sample/storage_sample_stage3.h5'):\n",
    "    df_final_train['page_rank_s']=df_final_train.source_node.apply(lambda x: pr.get(x, mean_pr))\n",
    "    df_final_train['page_rank_d']=df_final_train.destination_node.apply(lambda x: pr.get(x, mean_pr))\n",
    "     \n",
    "    df_final_test['page_rank_s']=df_final_test.source_node.apply(lambda x: pr.get(x, mean_pr))\n",
    "    df_final_test['page_rank_d']=df_final_test.destination_node.apply(lambda x: pr.get(x, mean_pr))\n",
    "    \n",
    "    df_final_train['katz_s']=df_final_train.source_node.apply(lambda x: katz.get(x, mean_katz))\n",
    "    df_final_train['katz_d']=df_final_train.destination_node.apply(lambda x: katz.get(x, mean_katz))\n",
    "     \n",
    "    df_final_test['katz_s']=df_final_test.source_node.apply(lambda x: katz.get(x, mean_katz))\n",
    "    df_final_test['katz_d']=df_final_test.destination_node.apply(lambda x: katz.get(x, mean_katz))\n",
    "    \n",
    "    df_final_train['hubs_s']=df_final_train.source_node.apply(lambda x: hits[0].get(x,0))\n",
    "    df_final_train['hubs_d']=df_final_train.destination_node.apply(lambda x: hits[0].get(x,0))\n",
    "     \n",
    "    df_final_test['hubs_s']=df_final_test.source_node.apply(lambda x: hits[0].get(x,0))\n",
    "    df_final_test['hubs_d']=df_final_test.destination_node.apply(lambda x: hits[0].get(x,0))\n",
    "    \n",
    "    df_final_train['authorities_s']=df_final_train.source_node.apply(lambda x: hits[1].get(x,0))\n",
    "    df_final_train['authorities_d']=df_final_train.destination_node.apply(lambda x: hits[1].get(x,0))\n",
    "     \n",
    "    df_final_test['authorities_s']=df_final_test.source_node.apply(lambda x: hits[1].get(x,0))\n",
    "    df_final_test['authorities_d']=df_final_test.destination_node.apply(lambda x: hits[1].get(x,0))\n",
    "    \n",
    "    hdf=HDFStore('data/fea_sample/storage_sample_stage3.h5')\n",
    "    hdf.put('train_df',df_final_train,format='table',data_columns=True)\n",
    "    hdf.put('test_df',df_final_test,format='table',data_columns=True)\n",
    "    hdf.close()\n",
    "else:\n",
    "    df_final_train=read_hdf('data/fea_sample/storage_sample_stage3.h5','train_df',mode='r')\n",
    "    df_final_test=read_hdf('data/fea_sample/storage_sample_stage3.h5','test_df',mode='r')    \n",
    "    \n",
    "    "
   ]
  },
  {
   "cell_type": "markdown",
   "id": "4410a37e",
   "metadata": {},
   "source": [
    "<h4>5.5. Adding Some More Features</h4>\n",
    "1. SVD for both source and destination "
   ]
  },
  {
   "cell_type": "code",
   "execution_count": 78,
   "id": "80424338",
   "metadata": {},
   "outputs": [],
   "source": [
    "sadj_col=sorted(train_graph.nodes())\n",
    "sadj_dict={val:idx for idx, val in enumerate(sadj_col)}\n",
    "def svd(x, S):\n",
    "    try:\n",
    "        z=sadj_dict[x]\n",
    "        return S[z]\n",
    "    except:\n",
    "        return [0,0,0,0,0,0]\n",
    "    "
   ]
  },
  {
   "cell_type": "code",
   "execution_count": 80,
   "id": "60e58e43",
   "metadata": {},
   "outputs": [
    {
     "name": "stdout",
     "output_type": "stream",
     "text": [
      "Adjacency Matrix Shape: (1780722, 1780722)\n",
      "U Matrix Shape: (1780722, 6)\n",
      "V Matrix Shape: (6, 1780722)\n",
      "s Matrix Shape: (6,)\n"
     ]
    }
   ],
   "source": [
    "Adj=nx.adjacency_matrix(train_graph,nodelist=sorted(train_graph.nodes())).asfptype()\n",
    "U,s,V=svds(Adj,k=6)\n",
    "print(\"Adjacency Matrix Shape:\",Adj.shape)\n",
    "print(\"U Matrix Shape:\",U.shape)\n",
    "print(\"V Matrix Shape:\",V.shape)\n",
    "print(\"s Matrix Shape:\",s.shape)"
   ]
  },
  {
   "cell_type": "code",
   "execution_count": 81,
   "id": "61d3bede",
   "metadata": {},
   "outputs": [],
   "source": [
    "if not os.path.isfile('data/fea_sample/storage_sample_stage4.h5'):\n",
    "    df_final_train[['svd_u_s_1','svd_u_s_2','svd_u_s_3','svd_u_s_4','svd_u_s_5','svd_u_s_6']]=\\\n",
    "    df_final_train.source_node.apply(lambda x: svd(x,U)).apply(pd.Series)\n",
    "    \n",
    "    df_final_train[['svd_u_d_1','svd_u_d_2','svd_u_d_3','svd_u_d_4','svd_u_d_5','svd_u_d_6']]=\\\n",
    "    df_final_train.destination_node.apply(lambda x: svd(x,U)).apply(pd.Series)\n",
    "    \n",
    "    df_final_train[['svd_v_s_1','svd_v_s_2','svd_v_s_3','svd_v_s_4','svd_v_s_5','svd_v_s_6']]=\\\n",
    "    df_final_train.source_node.apply(lambda x: svd(x,V.T)).apply(pd.Series)\n",
    "    \n",
    "    df_final_train[['svd_v_d_1','svd_v_d_2','svd_v_d_3','svd_v_d_4','svd_v_d_5','svd_v_d_6']]=\\\n",
    "    df_final_train.destination_node.apply(lambda x: svd(x,V.T)).apply(pd.Series)\n",
    "    \n",
    "    df_final_test[['svd_u_s_1','svd_u_s_2','svd_u_s_3','svd_u_s_4','svd_u_s_5','svd_u_s_6']]=\\\n",
    "    df_final_test.source_node.apply(lambda x: svd(x,U)).apply(pd.Series)\n",
    "    \n",
    "    df_final_test[['svd_u_d_1','svd_u_d_2','svd_u_d_3','svd_u_d_4','svd_u_d_5','svd_u_d_6']]=\\\n",
    "    df_final_test.destination_node.apply(lambda x: svd(x,U)).apply(pd.Series)\n",
    "    \n",
    "    df_final_test[['svd_v_s_1','svd_v_s_2','svd_v_s_3','svd_v_s_4','svd_v_s_5','svd_v_s_6']]=\\\n",
    "    df_final_test.source_node.apply(lambda x: svd(x,V.T)).apply(pd.Series)\n",
    "    \n",
    "    df_final_test[['svd_v_d_1','svd_v_d_2','svd_v_d_3','svd_v_d_4','svd_v_d_5','svd_v_d_6']]=\\\n",
    "    df_final_test.destination_node.apply(lambda x: svd(x,V.T)).apply(pd.Series)\n",
    "    \n",
    "    hdf=HDFStore('data/fea_sample/storage_sample_stage4.h5')\n",
    "    hdf.put('train_df',df_final_train,format='table',data_columns=True)\n",
    "    hdf.put('test_df',df_final_test,format='table',data_columns=True)\n",
    "    hdf.close()\n",
    "else:\n",
    "    df_final_train=read_hdf('data/fea_sample/storage_sample_stage4.h5','train_df',mode='r')\n",
    "    df_final_test=read_hdf('data/fea_sample/storage_sample_stage4.h5','test_df',mode='r')  "
   ]
  },
  {
   "cell_type": "code",
   "execution_count": null,
   "id": "cc99ca7d",
   "metadata": {},
   "outputs": [],
   "source": []
  }
 ],
 "metadata": {
  "kernelspec": {
   "display_name": "Python 3 (ipykernel)",
   "language": "python",
   "name": "python3"
  },
  "language_info": {
   "codemirror_mode": {
    "name": "ipython",
    "version": 3
   },
   "file_extension": ".py",
   "mimetype": "text/x-python",
   "name": "python",
   "nbconvert_exporter": "python",
   "pygments_lexer": "ipython3",
   "version": "3.9.13"
  }
 },
 "nbformat": 4,
 "nbformat_minor": 5
}
